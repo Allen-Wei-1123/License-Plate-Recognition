{
 "cells": [
  {
   "cell_type": "code",
   "execution_count": 90,
   "id": "5d442e4a",
   "metadata": {},
   "outputs": [],
   "source": [
    "from imutils import contours\n",
    "import numpy as np\n",
    "import argparse\n",
    "import cv2\n",
    "import myutils"
   ]
  },
  {
   "cell_type": "code",
   "execution_count": 91,
   "id": "d9880ef4",
   "metadata": {},
   "outputs": [],
   "source": [
    "img = cv2.imread('ocr_a_reference.png')"
   ]
  },
  {
   "cell_type": "code",
   "execution_count": 92,
   "id": "64a5f12c",
   "metadata": {},
   "outputs": [],
   "source": [
    "FIRST_NUMBER={\n",
    "    '3':'American Express',\n",
    "    '4':'Visa',\n",
    "    '5':'MasterCard',\n",
    "    '6':'Discover Card'\n",
    "}"
   ]
  },
  {
   "cell_type": "code",
   "execution_count": 93,
   "id": "e92fc588",
   "metadata": {},
   "outputs": [],
   "source": [
    "def cv_show(name,img):\n",
    "    cv2.imshow(name,img)\n",
    "    cv2.waitKey(0)\n",
    "    cv2.destroyAllWindows();"
   ]
  },
  {
   "cell_type": "code",
   "execution_count": 95,
   "id": "94330f67",
   "metadata": {},
   "outputs": [],
   "source": [
    "cv_show('img',img)"
   ]
  },
  {
   "cell_type": "code",
   "execution_count": 172,
   "id": "17da85b3",
   "metadata": {},
   "outputs": [],
   "source": [
    "#canny\n",
    "gray = cv2.cvtColor(img,cv2.COLOR_BGR2GRAY)\n",
    "\n",
    "#threshold\n",
    "ret,thresh = cv2.threshold(gray,10,255,cv2.THRESH_BINARY_INV)\n",
    "# cv_show('res',ret)\n",
    "contours,hierarchy = cv2.findContours(thresh,cv2.RETR_EXTERNAL,cv2.CHAIN_APPROX_SIMPLE)\n",
    "draw_img = img.copy()\n",
    "res = cv2.drawContours(draw_img,contours,-1,(0,0,255),1)\n",
    "cv_show('res',draw_img)"
   ]
  },
  {
   "cell_type": "code",
   "execution_count": 173,
   "id": "05b39fef",
   "metadata": {},
   "outputs": [],
   "source": [
    "#enumerate\n",
    "digits = {};\n",
    "refCnts = myutils.sort_contours(contours)[0]\n",
    "\n",
    "for (i,c) in enumerate(refCnts):\n",
    "    x,y,w,h = cv2.boundingRect(c);\n",
    "    roi = thresh[y:y+h,x:x+w]\n",
    "    roi = cv2.resize(roi,(57,88))\n",
    "    cv_show('roi',roi)\n",
    "    digits[i] = roi\n",
    "    \n",
    "    "
   ]
  },
  {
   "cell_type": "code",
   "execution_count": null,
   "id": "bfa5e409",
   "metadata": {},
   "outputs": [],
   "source": [
    "rectkernel = cv2.getStructuringElement(cv2.MORPH_RECT,(9,3))\n",
    "sqkernel = cv2.getStructuringElement(cv2.MORPH_RECT,(5,5))"
   ]
  },
  {
   "cell_type": "code",
   "execution_count": 200,
   "id": "780b88ad",
   "metadata": {},
   "outputs": [],
   "source": [
    "card_img = cv2.imread('images/credit_card_02.png')\n",
    "card_img = myutils.resize(card_img,width=300)\n",
    "card_img= cv2.GaussianBlur(card_img,(5,5),1);\n",
    "\n",
    "gray_card = cv2.cvtColor(card_img,cv2.COLOR_BGR2GRAY)\n",
    "\n",
    "tophat = cv2.morphologyEx(gray_card,cv2.MORPH_TOPHAT,rectkernel)\n",
    "cv_show('tophat',tophat)"
   ]
  },
  {
   "cell_type": "code",
   "execution_count": 201,
   "id": "fdf124ed",
   "metadata": {},
   "outputs": [],
   "source": [
    "# sobel_res = cv2.Sobel(tophat,ddepth = cv2.CV_32F,dx = 1,dy = 0,ksize = -1)\n",
    "# gradX = np.absolute(sobel_res)\n",
    "# (minval,maxval) = (np.min(gradX),np.max(gradX))\n",
    "# gradX = (255*((gradX-minval)/(maxval-minval)))\n",
    "# gradX = gradX.astype(\"uint8\")\n",
    "gradX = cv2.Laplacian(tophat,cv2.CV_32F,ksize = 3)\n",
    "gradX = cv2.convertScaleAbs(gradX)\n",
    "cv_show('gradX',gradX)"
   ]
  },
  {
   "cell_type": "code",
   "execution_count": 202,
   "id": "94dcd458",
   "metadata": {},
   "outputs": [],
   "source": [
    "# closing = cv2.morphologyEx(gradX, cv2.MORPH_CLOSE, rectkernel)\n",
    "closing = cv2.dilate(gradX,rectkernel,iterations=1)\n",
    "cv_show('closing',closing)\n",
    "# dilation = cv2.dilate(closing,rectkernel,iterations = 1)\n",
    "# cv_show(\"dilation\",dilation)"
   ]
  },
  {
   "cell_type": "code",
   "execution_count": 203,
   "id": "11078933",
   "metadata": {},
   "outputs": [],
   "source": [
    "#thresh\n",
    "ret2,th2 = cv2.threshold(closing,0,255,cv2.THRESH_BINARY+cv2.THRESH_OTSU)\n",
    "cv_show('ret2',th2)"
   ]
  },
  {
   "cell_type": "code",
   "execution_count": 204,
   "id": "db5fa064",
   "metadata": {},
   "outputs": [],
   "source": [
    "closing = cv2.morphologyEx(th2, cv2.MORPH_CLOSE, sqkernel)\n",
    "\n",
    "contours,hierarchy = cv2.findContours(closing.copy(),cv2.RETR_EXTERNAL,cv2.CHAIN_APPROX_SIMPLE)\n",
    "draw_img = card_img.copy()\n",
    "res = cv2.drawContours(draw_img,contours,-1,(0,0,255),3)\n",
    "cv_show('res',draw_img)"
   ]
  },
  {
   "cell_type": "code",
   "execution_count": 205,
   "id": "eac518ac",
   "metadata": {},
   "outputs": [
    {
     "name": "stdout",
     "output_type": "stream",
     "text": [
      "28 154 86 14\n",
      "219 151 75 26\n",
      "91 109 118 18\n",
      "29 109 57 18\n",
      "216 108 56 20\n",
      "224 78 59 14\n",
      "189 15 93 45\n",
      "size is  3\n"
     ]
    }
   ],
   "source": [
    "locs = []\n",
    "for (i,cnt) in enumerate(contours):\n",
    "    (x,y,w,h) = cv2.boundingRect(cnt)\n",
    "    ar = w/float(h)\n",
    "    print(x,y,w,h)\n",
    "    if ar > 2.5 and ar < 4.0:\n",
    "        if  (w>40 and w<86) and (h>10 and h<45):\n",
    "            locs.append([x,y,w,h])\n",
    "locs = sorted(locs,key = lambda x:x[0])\n",
    "print(\"size is \",len(locs))\n"
   ]
  },
  {
   "cell_type": "code",
   "execution_count": 198,
   "id": "52ac759c",
   "metadata": {},
   "outputs": [
    {
     "name": "stdout",
     "output_type": "stream",
     "text": [
      "max is  4\n",
      "max is  0\n",
      "max is  2\n",
      "max is  0\n",
      "max is  5\n",
      "max is  6\n",
      "max is  7\n",
      "max is  8\n",
      "max is  7\n",
      "max is  7\n",
      "max is  5\n",
      "max is  1\n",
      "Credit Card #: 11114441478781411111444147878141111144414787814140001234567890104020340002345678402034000234567840203400023456784020340002345678402034000234567840204020402056787751402056787751\n"
     ]
    },
    {
     "data": {
      "text/plain": [
       "113"
      ]
     },
     "execution_count": 198,
     "metadata": {},
     "output_type": "execute_result"
    }
   ],
   "source": [
    "tmp = card_img.copy()\n",
    "for (i,(gx,gy,gw,gh)) in enumerate(locs):\n",
    "    groupoutput = []\n",
    "    #[c,r], c = column,r = row\n",
    "    group = gray_card[gy-5:gy+gh+5,gx-5:gx+gw+5]\n",
    "    \n",
    "    group = cv2.threshold(group,0,255,cv2.THRESH_BINARY | cv2.THRESH_OTSU)[1]\n",
    "    contours,hierarchy = cv2.findContours(group.copy(),cv2.RETR_EXTERNAL,cv2.CHAIN_APPROX_SIMPLE)\n",
    "    draw_img = card_img.copy()\n",
    "    \n",
    "    digits_cnt = myutils.sort_contours(contours)[0]\n",
    "    \n",
    "    for (i,c) in enumerate(digits_cnt):\n",
    "        x,y,w,h = cv2.boundingRect(c);\n",
    "        roi = group[y:y+h,x:x+w]\n",
    "        roi = cv2.resize(roi,(57,88))\n",
    "            \n",
    "        scores = []\n",
    "        \n",
    "        for(digit,digitROI) in digits.items():\n",
    "            result = cv2.matchTemplate(roi,digitROI,cv2.TM_CCOEFF);\n",
    "            (_,maxval,_,_) = cv2.minMaxLoc(result);\n",
    "            \n",
    "            scores.append(maxval);\n",
    "        print(\"max is \",str(np.argmax(scores)))\n",
    "        groupoutput.append(str(np.argmax(scores)))\n",
    "    \n",
    "    \n",
    "    cv2.rectangle(tmp, (gx - 5, gy - 5),\n",
    "        (gx + gw + 5, gy + gh + 5), (0, 0, 255), 1)\n",
    "    cv2.putText(tmp, \"\".join(groupoutput), (gx, gy - 15),\n",
    "        cv2.FONT_HERSHEY_SIMPLEX, 0.65, (0, 0, 255), 2)\n",
    "    \n",
    "    output.extend(groupoutput)\n",
    "\n",
    "\n",
    "print(\"Credit Card #: {}\".format(\"\".join(output)))        \n",
    "cv2.imshow(\"Image\", tmp)\n",
    "\n",
    "cv2.waitKey(0)"
   ]
  },
  {
   "cell_type": "code",
   "execution_count": 59,
   "id": "e306d7c0",
   "metadata": {},
   "outputs": [],
   "source": []
  },
  {
   "cell_type": "code",
   "execution_count": null,
   "id": "e71d9c8c",
   "metadata": {},
   "outputs": [],
   "source": []
  }
 ],
 "metadata": {
  "kernelspec": {
   "display_name": "Python 3",
   "language": "python",
   "name": "python3"
  },
  "language_info": {
   "codemirror_mode": {
    "name": "ipython",
    "version": 3
   },
   "file_extension": ".py",
   "mimetype": "text/x-python",
   "name": "python",
   "nbconvert_exporter": "python",
   "pygments_lexer": "ipython3",
   "version": "3.7.10"
  }
 },
 "nbformat": 4,
 "nbformat_minor": 5
}
