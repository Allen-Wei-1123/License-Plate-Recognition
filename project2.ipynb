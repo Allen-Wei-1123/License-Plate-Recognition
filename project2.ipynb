{
 "cells": [
  {
   "cell_type": "code",
   "execution_count": 2,
   "id": "1c4af880",
   "metadata": {},
   "outputs": [],
   "source": [
    "from imutils import contours\n",
    "import numpy as np\n",
    "import argparse\n",
    "import cv2\n",
    "import myutils"
   ]
  },
  {
   "cell_type": "code",
   "execution_count": 23,
   "id": "2a2a4d11",
   "metadata": {},
   "outputs": [],
   "source": [
    "def order_points(pts):\n",
    "\t# 一共4个坐标点\n",
    "\trect = np.zeros((4, 2), dtype = \"float32\")\n",
    "\n",
    "\t# 按顺序找到对应坐标0123分别是 左上，右上，右下，左下\n",
    "\t# 计算左上，右下\n",
    "\ts = pts.sum(axis = 1)\n",
    "\trect[0] = pts[np.argmin(s)]\n",
    "\trect[2] = pts[np.argmax(s)]\n",
    "\n",
    "\t# 计算右上和左下\n",
    "\tdiff = np.diff(pts, axis = 1)\n",
    "\trect[1] = pts[np.argmin(diff)]\n",
    "\trect[3] = pts[np.argmax(diff)]\n",
    "\n",
    "\treturn rect"
   ]
  },
  {
   "cell_type": "code",
   "execution_count": 24,
   "id": "988b324b",
   "metadata": {},
   "outputs": [],
   "source": [
    "def resize(image, width=None, height=None, inter=cv2.INTER_AREA):\n",
    "    dim = None\n",
    "    (h, w) = image.shape[:2]\n",
    "    if width is None and height is None:\n",
    "        return image\n",
    "    if width is None:\n",
    "        r = height / float(h)\n",
    "        dim = (int(w * r), height)\n",
    "    else:\n",
    "        r = width / float(w)\n",
    "        dim = (width, int(h * r))\n",
    "    resized = cv2.resize(image, dim, interpolation=inter)\n",
    "    return resized"
   ]
  },
  {
   "cell_type": "code",
   "execution_count": 25,
   "id": "48cae8cd",
   "metadata": {},
   "outputs": [],
   "source": [
    "def four_point_transform(image, pts):\n",
    "\t# 获取输入坐标点\n",
    "\trect = order_points(pts)\n",
    "\t(tl, tr, br, bl) = rect\n",
    "\n",
    "\t# 计算输入的w和h值\n",
    "\twidthA = np.sqrt(((br[0] - bl[0]) ** 2) + ((br[1] - bl[1]) ** 2))\n",
    "\twidthB = np.sqrt(((tr[0] - tl[0]) ** 2) + ((tr[1] - tl[1]) ** 2))\n",
    "\tmaxWidth = max(int(widthA), int(widthB))\n",
    "\n",
    "\theightA = np.sqrt(((tr[0] - br[0]) ** 2) + ((tr[1] - br[1]) ** 2))\n",
    "\theightB = np.sqrt(((tl[0] - bl[0]) ** 2) + ((tl[1] - bl[1]) ** 2))\n",
    "\tmaxHeight = max(int(heightA), int(heightB))\n",
    "\n",
    "\t# 变换后对应坐标位置\n",
    "\tdst = np.array([\n",
    "\t\t[0, 0],\n",
    "\t\t[maxWidth - 1, 0],\n",
    "\t\t[maxWidth - 1, maxHeight - 1],\n",
    "\t\t[0, maxHeight - 1]], dtype = \"float32\")\n",
    "\n",
    "\t# 计算变换矩阵\n",
    "\tM = cv2.getPerspectiveTransform(rect, dst)\n",
    "\twarped = cv2.warpPerspective(image, M, (maxWidth, maxHeight))\n",
    "\n",
    "\t# 返回变换后结果\n",
    "\treturn warped"
   ]
  },
  {
   "cell_type": "code",
   "execution_count": 4,
   "id": "c624b705",
   "metadata": {},
   "outputs": [],
   "source": [
    "def cv_show(name,img):\n",
    "    cv2.imshow(name,img)\n",
    "    cv2.waitKey(0)\n",
    "    cv2.destroyAllWindows();"
   ]
  },
  {
   "cell_type": "code",
   "execution_count": 49,
   "id": "ff5a5533",
   "metadata": {},
   "outputs": [],
   "source": [
    "receipt = cv2.imread('scan/receipt.jpg')\n",
    "ratio = receipt.shape[0]/500.0\n",
    "orig = receipt.copy()\n",
    "receipt = resize(orig,height=500)\n",
    "# receipt = cv2.resize(receipt,(200,300))\n",
    "cv_show('receipt',receipt)"
   ]
  },
  {
   "cell_type": "code",
   "execution_count": 50,
   "id": "16738a6a",
   "metadata": {},
   "outputs": [],
   "source": [
    "gray_img = cv2.cvtColor(receipt,cv2.COLOR_BGR2GRAY)\n",
    "gray_img = cv2.GaussianBlur(gray_img,(5,5),0)\n",
    "edged = cv2.Canny(gray_img,75,200)\n",
    "\n",
    "contours,hierarchy = cv2.findContours(edged.copy(),cv2.RETR_EXTERNAL,cv2.CHAIN_APPROX_NONE)\n",
    "draw_img = receipt.copy()\n",
    "res = cv2.drawContours(draw_img,contours,-1,(0,0,255),3)\n",
    "# cv_show('res',draw_img)"
   ]
  },
  {
   "cell_type": "code",
   "execution_count": 51,
   "id": "ca031e25",
   "metadata": {},
   "outputs": [],
   "source": [
    "cnts = sorted(contours,key = cv2.contourArea,reverse = True)[:5]"
   ]
  },
  {
   "cell_type": "code",
   "execution_count": 52,
   "id": "b2d283b6",
   "metadata": {},
   "outputs": [],
   "source": [
    "# draw_img2 = receipt.copy()\n",
    "# tmpres = cv2.drawContours(draw_img2,cnts[0],-1,(0,255,0),3)\n",
    "# cv_show('tmpres',tmpres)"
   ]
  },
  {
   "cell_type": "code",
   "execution_count": 53,
   "id": "5beea9d3",
   "metadata": {},
   "outputs": [],
   "source": [
    "\n",
    "for (i,c) in enumerate(cnts):\n",
    "    \n",
    "    peri = cv2.arcLength(c,True);\n",
    "    \n",
    "    approx = cv2.approxPolyDP(c,0.02*peri,True);\n",
    "    \n",
    "    if len(approx) == 4:\n",
    "        screencnt = approx;\n",
    "        break;\n",
    "        \n",
    "        \n",
    "tmp = receipt.copy();\n",
    "cv2.drawContours(tmp,[screencnt],-1,(0,255,0),3)\n",
    "cv_show('outlines',tmp)"
   ]
  },
  {
   "cell_type": "code",
   "execution_count": 54,
   "id": "e8be3e45",
   "metadata": {},
   "outputs": [],
   "source": [
    "warped = four_point_transform(orig,screencnt.reshape(4,2)*ratio);"
   ]
  },
  {
   "cell_type": "code",
   "execution_count": 55,
   "id": "90f968f2",
   "metadata": {},
   "outputs": [],
   "source": [
    "warped = cv2.cvtColor(warped, cv2.COLOR_BGR2GRAY)\n",
    "cv_show('warped',warped)"
   ]
  },
  {
   "cell_type": "code",
   "execution_count": 56,
   "id": "f42cf544",
   "metadata": {},
   "outputs": [],
   "source": [
    "ref = cv2.threshold(warped, 100, 255, cv2.THRESH_BINARY)[1]"
   ]
  },
  {
   "cell_type": "code",
   "execution_count": 58,
   "id": "a50c6c10",
   "metadata": {},
   "outputs": [
    {
     "data": {
      "text/plain": [
       "113"
      ]
     },
     "execution_count": 58,
     "metadata": {},
     "output_type": "execute_result"
    }
   ],
   "source": [
    "cv2.imshow(\"Original\", resize(orig, height = 650))\n",
    "cv2.imshow(\"Scanned\", resize(ref, height = 650))\n",
    "cv2.waitKey(0)"
   ]
  },
  {
   "cell_type": "code",
   "execution_count": null,
   "id": "76931903",
   "metadata": {},
   "outputs": [],
   "source": []
  }
 ],
 "metadata": {
  "kernelspec": {
   "display_name": "Python 3",
   "language": "python",
   "name": "python3"
  },
  "language_info": {
   "codemirror_mode": {
    "name": "ipython",
    "version": 3
   },
   "file_extension": ".py",
   "mimetype": "text/x-python",
   "name": "python",
   "nbconvert_exporter": "python",
   "pygments_lexer": "ipython3",
   "version": "3.7.10"
  }
 },
 "nbformat": 4,
 "nbformat_minor": 5
}
