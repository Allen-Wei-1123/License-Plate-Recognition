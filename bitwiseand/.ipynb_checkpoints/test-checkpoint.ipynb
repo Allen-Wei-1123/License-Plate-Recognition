{
 "cells": [
  {
   "cell_type": "code",
   "execution_count": 19,
   "id": "ed7376f6",
   "metadata": {},
   "outputs": [],
   "source": [
    "import cv2\n",
    "import numpy as np\n",
    "import matplotlib.pyplot as plt\n",
    "%matplotlib inline"
   ]
  },
  {
   "cell_type": "code",
   "execution_count": 20,
   "id": "995294aa",
   "metadata": {},
   "outputs": [],
   "source": [
    "def cv_show(name,img):\n",
    "    cv2.imshow(name,img);\n",
    "    cv2.waitKey(0);\n",
    "    cv2.destroyAllWindows();\n",
    "    "
   ]
  },
  {
   "cell_type": "code",
   "execution_count": 42,
   "id": "edf2c5ec",
   "metadata": {},
   "outputs": [],
   "source": [
    "img1 = cv2.imread('jiemi.jpeg')\n",
    "img2 = cv2.imread('logo.jpeg')"
   ]
  },
  {
   "cell_type": "code",
   "execution_count": 51,
   "id": "3c2cf24e",
   "metadata": {},
   "outputs": [],
   "source": [
    "r1,c1,ch1 = img1.shape\n",
    "r2,c2,ch2 = img2.shape\n",
    "roi = img1[r1-r2:r1, c1-c2:c1 ]\n",
    "    #设定jiemi图的roi，注意：对roi的操作就是对img1的操作\n",
    "\n",
    "gray = cv2.cvtColor(img2,cv2.COLOR_BGR2GRAY)\n",
    "    #得到灰度图\n",
    "\n",
    "ret, ma1 = cv2.threshold(gray, 170, 255, cv2.THRESH_BINARY)\n",
    "# cv_show('ma1',ma1)\n",
    "fg1 = cv2.bitwise_and(roi,roi,mask=ma1)\n",
    "cv_show('fg1',fg1)\n",
    "    #ma1是黑化logo，黑的地方可以通过bitwise_and把其他黑掉，所以ma1是黑roi的\n",
    "\n",
    "ret, ma2 = cv2.threshold(gray, 170, 255, cv2.THRESH_BINARY_INV)\n",
    "cv_show('ma2',ma2)\n",
    "fg2 = cv2.bitwise_and(img2,img2,mask = ma2)\n",
    "cv_show('fg2',fg2)\n",
    "    #ma2是黑化周边，所以ma2是黑logo的\n",
    "    #ma2=cv2.bitwise_not(ma1) 也可以这样对其反转\n",
    "\n",
    "roi[:] = cv2.add(fg1, fg2)\n",
    "    #这里终于合体了\n",
    "\n",
    "cv2.imshow('img1',img1)\n",
    "\n",
    "cv2.waitKey(0)\n",
    "cv2.destroyAllWindows()"
   ]
  },
  {
   "cell_type": "code",
   "execution_count": null,
   "id": "36218faf",
   "metadata": {},
   "outputs": [],
   "source": []
  }
 ],
 "metadata": {
  "kernelspec": {
   "display_name": "Python 3",
   "language": "python",
   "name": "python3"
  },
  "language_info": {
   "codemirror_mode": {
    "name": "ipython",
    "version": 3
   },
   "file_extension": ".py",
   "mimetype": "text/x-python",
   "name": "python",
   "nbconvert_exporter": "python",
   "pygments_lexer": "ipython3",
   "version": "3.7.10"
  }
 },
 "nbformat": 4,
 "nbformat_minor": 5
}
