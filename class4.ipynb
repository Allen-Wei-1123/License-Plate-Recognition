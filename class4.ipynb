{
 "cells": [
  {
   "cell_type": "code",
   "execution_count": 1,
   "id": "35c3bff4",
   "metadata": {},
   "outputs": [],
   "source": [
    "import cv2\n",
    "import numpy as np\n",
    "import matplotlib.pyplot as plt\n",
    "%matplotlib inline"
   ]
  },
  {
   "cell_type": "code",
   "execution_count": 6,
   "id": "b0715c61",
   "metadata": {},
   "outputs": [],
   "source": [
    "def cv_show(name,img):\n",
    "    cv2.imshow('name',img);\n",
    "    cv2.waitKey(0)\n",
    "    cv2.destroyAllWindows()"
   ]
  },
  {
   "cell_type": "code",
   "execution_count": 3,
   "id": "d985ec80",
   "metadata": {},
   "outputs": [],
   "source": [
    "\n",
    "img = cv2.imread('lena.jpg',cv2.IMREAD_GRAYSCALE)\n",
    "v1 = cv2.Canny(img,80,150);\n",
    "v2 = cv2.Canny(img,50,100);\n",
    "\n",
    "res = np.hstack((v1,v2))\n",
    "cv_show('lena',res)\n"
   ]
  },
  {
   "cell_type": "code",
   "execution_count": 5,
   "id": "f171639b",
   "metadata": {},
   "outputs": [
    {
     "data": {
      "text/plain": [
       "(442, 340, 3)"
      ]
     },
     "execution_count": 5,
     "metadata": {},
     "output_type": "execute_result"
    }
   ],
   "source": [
    "img = cv2.imread(\"AM.png\")\n",
    "# cv_show('original',img);\n",
    "img.shape"
   ]
  },
  {
   "cell_type": "code",
   "execution_count": 7,
   "id": "2600fee2",
   "metadata": {},
   "outputs": [
    {
     "data": {
      "text/plain": [
       "(884, 680, 3)"
      ]
     },
     "execution_count": 7,
     "metadata": {},
     "output_type": "execute_result"
    }
   ],
   "source": [
    "up = cv2.pyrUp(img);\n",
    "# cv_show('pyup',up)\n",
    "up.shape\n"
   ]
  },
  {
   "cell_type": "code",
   "execution_count": 8,
   "id": "c8690895",
   "metadata": {},
   "outputs": [
    {
     "data": {
      "text/plain": [
       "(221, 170, 3)"
      ]
     },
     "execution_count": 8,
     "metadata": {},
     "output_type": "execute_result"
    }
   ],
   "source": [
    "down = cv2.pyrDown(img);\n",
    "down.shape"
   ]
  },
  {
   "cell_type": "code",
   "execution_count": 9,
   "id": "c01032a9",
   "metadata": {},
   "outputs": [],
   "source": [
    "#laplacian pyramid\n",
    "down = cv2.pyrDown(img)\n",
    "down_up = cv2.pyrUp(down)\n",
    "laplacian = img-down_up\n",
    "cv_show('ll',laplacian)"
   ]
  },
  {
   "cell_type": "code",
   "execution_count": 10,
   "id": "4d48ace8",
   "metadata": {},
   "outputs": [],
   "source": [
    "img = cv2.imread('contours.png')\n",
    "gray = cv2.cvtColor(img,cv2.COLOR_BGR2GRAY)\n",
    "ret,thresh = cv2.threshold(gray,127,255,cv2.THRESH_BINARY)\n",
    "# cv_show('thresh',thresh)"
   ]
  },
  {
   "cell_type": "code",
   "execution_count": 12,
   "id": "b54c0732",
   "metadata": {},
   "outputs": [],
   "source": [
    "contours,hierarchy = cv2.findContours(thresh,cv2.RETR_TREE,cv2.CHAIN_APPROX_NONE)"
   ]
  },
  {
   "cell_type": "code",
   "execution_count": 15,
   "id": "b6baf511",
   "metadata": {},
   "outputs": [],
   "source": [
    "draw_img = img.copy()\n",
    "res = cv2.drawContours(draw_img,contours,-1,(0,0,255),1)\n",
    "cv_show('res',res)"
   ]
  },
  {
   "cell_type": "code",
   "execution_count": 16,
   "id": "90c26384",
   "metadata": {},
   "outputs": [],
   "source": [
    "cv_show('img',img)"
   ]
  },
  {
   "cell_type": "code",
   "execution_count": 17,
   "id": "77b04b1d",
   "metadata": {},
   "outputs": [
    {
     "data": {
      "text/plain": [
       "8500.5"
      ]
     },
     "execution_count": 17,
     "metadata": {},
     "output_type": "execute_result"
    }
   ],
   "source": [
    "cnt = contours[0];\n",
    "cv2.contourArea(cnt)"
   ]
  },
  {
   "cell_type": "code",
   "execution_count": 20,
   "id": "f85ce867",
   "metadata": {},
   "outputs": [],
   "source": [
    "img = cv2.imread('contours2.png')\n",
    "gray = cv2.cvtColor(img,cv2.COLOR_BGR2GRAY)\n",
    "ret,thresh = cv2.threshold(gray,127,255,cv2.THRESH_BINARY)\n",
    "\n",
    "contours,hierarchy = cv2.findContours(thresh,cv2.RETR_TREE,cv2.CHAIN_APPROX_NONE)\n",
    "cnt = contours[0];\n",
    "draw_img = img.copy()\n",
    "res = cv2.drawContours(draw_img,[cnt],-1,(0,0,255),2)\n",
    "cv_show('res',res)"
   ]
  },
  {
   "cell_type": "code",
   "execution_count": 26,
   "id": "50cc405f",
   "metadata": {},
   "outputs": [],
   "source": [
    "epsilon = 0.12*cv2.arcLength(cnt,True)\n",
    "approx = cv2.approxPolyDP(cnt,epsilon,True)\n",
    "drawimg = img.copy()\n",
    "res = cv2.drawContours(drawimg,[approx],-1,(0,0,255),2)\n",
    "cv_show('res',res)"
   ]
  },
  {
   "cell_type": "code",
   "execution_count": 30,
   "id": "adead92c",
   "metadata": {},
   "outputs": [],
   "source": [
    "img = cv2.imread('contours.png')\n",
    "gray = cv2.cvtColor(img,cv2.COLOR_BGR2GRAY)\n",
    "ret,thresh = cv2.threshold(gray,127,255,cv2.THRESH_BINARY)\n",
    "contours,hierarchy = cv2.findContours(thresh,cv2.RETR_TREE,cv2.CHAIN_APPROX_NONE)\n",
    "cnt = contours[3];\n",
    "\n",
    "x,y,w,h = cv2.boundingRect(cnt)\n",
    "img = cv2.rectangle(img,(x,y),(x+w,y+h),(0,255,0),2)\n",
    "cv_show('img',img)"
   ]
  },
  {
   "cell_type": "code",
   "execution_count": null,
   "id": "361a3407",
   "metadata": {},
   "outputs": [],
   "source": []
  },
  {
   "cell_type": "code",
   "execution_count": null,
   "id": "2cff2ec0",
   "metadata": {},
   "outputs": [],
   "source": []
  }
 ],
 "metadata": {
  "kernelspec": {
   "display_name": "Python 3",
   "language": "python",
   "name": "python3"
  },
  "language_info": {
   "codemirror_mode": {
    "name": "ipython",
    "version": 3
   },
   "file_extension": ".py",
   "mimetype": "text/x-python",
   "name": "python",
   "nbconvert_exporter": "python",
   "pygments_lexer": "ipython3",
   "version": "3.7.10"
  }
 },
 "nbformat": 4,
 "nbformat_minor": 5
}
