{
 "cells": [
  {
   "cell_type": "code",
   "execution_count": 45,
   "id": "a74d2648",
   "metadata": {},
   "outputs": [],
   "source": [
    "from imutils import contours\n",
    "import numpy as np\n",
    "import argparse\n",
    "import cv2\n",
    "import pytesseract\n",
    "import import_ipynb\n",
    "import myutils\n",
    "import easyocr"
   ]
  },
  {
   "cell_type": "code",
   "execution_count": 46,
   "id": "b64d4514",
   "metadata": {},
   "outputs": [],
   "source": [
    "def cv_show(name,img):\n",
    "    cv2.imshow(name,img)\n",
    "    cv2.waitKey(0)\n",
    "    cv2.destroyAllWindows();"
   ]
  },
  {
   "cell_type": "code",
   "execution_count": 47,
   "id": "d7a570cd",
   "metadata": {},
   "outputs": [],
   "source": [
    "img = cv2.imread('plate_11.jpeg')"
   ]
  },
  {
   "cell_type": "code",
   "execution_count": 48,
   "id": "5d523e69",
   "metadata": {},
   "outputs": [],
   "source": [
    "ratio = img.shape[0]/500.0\n",
    "orig = img.copy();\n",
    "img = myutils.resize(orig,height=500)\n"
   ]
  },
  {
   "cell_type": "code",
   "execution_count": 49,
   "id": "54baf1de",
   "metadata": {},
   "outputs": [
    {
     "data": {
      "text/plain": [
       "(500, 666, 3)"
      ]
     },
     "execution_count": 49,
     "metadata": {},
     "output_type": "execute_result"
    }
   ],
   "source": [
    "cv_show('img',img)\n",
    "img.shape"
   ]
  },
  {
   "cell_type": "code",
   "execution_count": 50,
   "id": "ed4c18a4",
   "metadata": {},
   "outputs": [],
   "source": [
    "\n",
    "img=cv2.GaussianBlur(img,(5,5),0)\n",
    "gray = cv2.cvtColor(img,cv2.COLOR_BGR2GRAY)\n",
    "rectKern = cv2.getStructuringElement(cv2.MORPH_RECT, (20, 10))\n",
    "blackhat = cv2.morphologyEx(gray, cv2.MORPH_BLACKHAT, rectKern)\n",
    "cv_show(\"Tophat\", blackhat)"
   ]
  },
  {
   "cell_type": "code",
   "execution_count": 51,
   "id": "ecfcf703",
   "metadata": {},
   "outputs": [],
   "source": [
    "squareKern = cv2.getStructuringElement(cv2.MORPH_RECT, (3, 3))\n",
    "light = cv2.morphologyEx(gray, cv2.MORPH_CLOSE, squareKern)\n",
    "light = cv2.threshold(light, 0, 255,cv2.THRESH_BINARY | cv2.THRESH_OTSU)[1]\n",
    "cv_show(\"Light Regions\", light)"
   ]
  },
  {
   "cell_type": "code",
   "execution_count": 52,
   "id": "1d97a736",
   "metadata": {},
   "outputs": [],
   "source": [
    "gradX = cv2.Sobel(blackhat, ddepth=cv2.CV_32F,dx=1, dy=0, ksize=-1)\n",
    "gradX = np.absolute(gradX)\n",
    "(minVal, maxVal) = (np.min(gradX), np.max(gradX))\n",
    "gradX = 255 * ((gradX - minVal) / (maxVal - minVal))\n",
    "gradX = gradX.astype(\"uint8\")\n",
    "cv_show(\"Scharr\", gradX)"
   ]
  },
  {
   "cell_type": "code",
   "execution_count": 53,
   "id": "eca185de",
   "metadata": {},
   "outputs": [],
   "source": [
    "gradX = cv2.GaussianBlur(gradX, (5, 5), 0)\n",
    "gradX = cv2.morphologyEx(gradX, cv2.MORPH_CLOSE, rectKern)\n",
    "thresh = cv2.threshold(gradX, 0, 255,cv2.THRESH_BINARY | cv2.THRESH_OTSU)[1]\n",
    "cv_show(\"Grad Thresh\", thresh)"
   ]
  },
  {
   "cell_type": "code",
   "execution_count": 54,
   "id": "3ab5936e",
   "metadata": {},
   "outputs": [],
   "source": [
    "thresh = cv2.erode(thresh, None, iterations=2)\n",
    "thresh = cv2.dilate(thresh, None, iterations=2)"
   ]
  },
  {
   "cell_type": "code",
   "execution_count": 55,
   "id": "53083b2d",
   "metadata": {},
   "outputs": [],
   "source": [
    "thresh = cv2.bitwise_and(thresh, thresh, mask=light)\n",
    "thresh = cv2.dilate(thresh, None, iterations=2)\n",
    "thresh = cv2.erode(thresh, None, iterations=1)\n",
    "cv_show(\"Final\", thresh)"
   ]
  },
  {
   "cell_type": "code",
   "execution_count": 56,
   "id": "a399e5c5",
   "metadata": {},
   "outputs": [],
   "source": [
    "cnts,hierarchy = cv2.findContours(thresh.copy(),cv2.RETR_EXTERNAL,cv2.CHAIN_APPROX_SIMPLE)\n",
    "draw_img = img.copy();\n",
    "cv2.drawContours(draw_img,cnts,-1,(0,0,255),3)\n",
    "cv_show('cnts',draw_img)"
   ]
  },
  {
   "cell_type": "code",
   "execution_count": 57,
   "id": "17e2924d",
   "metadata": {},
   "outputs": [
    {
     "name": "stdout",
     "output_type": "stream",
     "text": [
      "0.6666666666666666\n",
      "0.4782608695652174\n",
      "0.5\n",
      "0.7272727272727273\n",
      "0.42857142857142855\n",
      "0.75\n",
      "0.09302325581395349\n",
      "5.3076923076923075\n"
     ]
    }
   ],
   "source": [
    "lpCnt = None\n",
    "roi = None\n",
    "\t\t# loop over the license plate candidate contours\n",
    "for c in cnts:\n",
    "    # compute the bounding box of the contour and then use\n",
    "    # the bounding box to derive the aspect ratio\n",
    "    (x, y, w, h) = cv2.boundingRect(c)\n",
    "    ar = w / float(h)\n",
    "    print(ar)\n",
    "    roi = img[y:y+h,x:x+w]\n",
    "    #cv_show('roi',roi);\n",
    "    \n",
    "    if ar >= 3 and ar <= 6:\n",
    "        # store the license plate contour and extract the\n",
    "        # license plate from the grayscale image and then\n",
    "        # threshold it\n",
    "        lpCnt = c\n",
    "        img_seg = img[y:y+h,x:x+w]\n",
    "        licensePlate = img[y:y + h, x:x + w]\n",
    "\n",
    "        break"
   ]
  },
  {
   "cell_type": "code",
   "execution_count": 58,
   "id": "ee38af2f",
   "metadata": {},
   "outputs": [
    {
     "data": {
      "text/plain": [
       "(60, 318)"
      ]
     },
     "execution_count": 58,
     "metadata": {},
     "output_type": "execute_result"
    }
   ],
   "source": [
    "# licensePlate = myutils.enlarge_img(licensePlate,150)\n",
    "licensePlate = cv2.GaussianBlur(licensePlate,(5,5),0)\n",
    "licensePlate  = cv2.cvtColor(licensePlate,cv2.COLOR_BGR2GRAY)\n",
    "licensePlate = myutils.resize(licensePlate,height=60)\n",
    "cv_show('tmp',licensePlate)\n",
    "licensePlate.shape"
   ]
  },
  {
   "cell_type": "code",
   "execution_count": 59,
   "id": "56caa666",
   "metadata": {},
   "outputs": [],
   "source": [
    "licensePlate = cv2.threshold(licensePlate, 0, 255,cv2.THRESH_BINARY_INV + cv2.THRESH_OTSU)[1]\n"
   ]
  },
  {
   "cell_type": "code",
   "execution_count": 60,
   "id": "6da3efec",
   "metadata": {},
   "outputs": [],
   "source": [
    "lp_close = cv2.morphologyEx(licensePlate,cv2.MORPH_CLOSE,squareKern)\n",
    "lp_close = cv2.morphologyEx(licensePlate,cv2.MORPH_OPEN,squareKern)\n",
    "lp_close = cv2.erode(lp_close,squareKern,iterations=1)"
   ]
  },
  {
   "cell_type": "code",
   "execution_count": 61,
   "id": "54128e85",
   "metadata": {},
   "outputs": [],
   "source": [
    "cv_show('lp_close',lp_close)"
   ]
  },
  {
   "cell_type": "code",
   "execution_count": 62,
   "id": "70bae74d",
   "metadata": {},
   "outputs": [],
   "source": [
    "result = np.zeros(licensePlate.shape, dtype=np.uint8)\n",
    "cv_show('res',result)"
   ]
  },
  {
   "cell_type": "code",
   "execution_count": 63,
   "id": "b7b9150f",
   "metadata": {},
   "outputs": [],
   "source": [
    "lp_close = licensePlate.copy()\n",
    "contours,hierarchy = cv2.findContours(lp_close,cv2.RETR_EXTERNAL,cv2.CHAIN_APPROX_SIMPLE);\n",
    "# cv2.drawContours(img_seg,contours,-1,(0,0,255),2)\n",
    "# cv_show('img_seg',img_seg)"
   ]
  },
  {
   "cell_type": "code",
   "execution_count": 64,
   "id": "30f26ef4",
   "metadata": {},
   "outputs": [
    {
     "name": "stdout",
     "output_type": "stream",
     "text": [
      "776\n",
      "rat =  0.5185185185185185\n",
      "873\n",
      "rat =  0.5370370370370371\n",
      "98\n",
      "rat =  2.2857142857142856\n",
      "782\n",
      "rat =  0.5178571428571429\n",
      "431\n",
      "rat =  0.20754716981132076\n",
      "841\n",
      "rat =  0.5849056603773585\n",
      "65\n",
      "rat =  1.5714285714285714\n",
      "712\n",
      "rat =  0.5178571428571429\n",
      "899\n",
      "rat =  0.5185185185185185\n",
      "132\n",
      "rat =  0.06666666666666667\n"
     ]
    }
   ],
   "source": [
    "contours = myutils.sort_contours(contours)[0]\n",
    "for c in contours:\n",
    "    x,y,w,h = cv2.boundingRect(c);\n",
    "    roi = lp_close[y:y+h,x:x+w];\n",
    "    cnt_white = np.sum(roi == 255);\n",
    "    cv_show('roi',roi) \n",
    "    rat = w/float(h)\n",
    "    print(cnt_white)\n",
    "    print(\"rat = \",rat)\n",
    "    if (rat >= 0.5 and rat <= 1.2) or (cnt_white >= 200 and cnt_white <= 600) :\n",
    "        result[y:y+h,x:x+w] = lp_close[y:y+h,x:x+w];"
   ]
  },
  {
   "cell_type": "code",
   "execution_count": 65,
   "id": "389ba8f3",
   "metadata": {},
   "outputs": [],
   "source": [
    "# result = cv2.dilate(result,None,iterations=1);\n",
    "invert = 255-result\n",
    "cv_show('invert',invert);"
   ]
  },
  {
   "cell_type": "code",
   "execution_count": 66,
   "id": "cc9b18f8",
   "metadata": {},
   "outputs": [
    {
     "name": "stdout",
     "output_type": "stream",
     "text": [
      "Sk 314 CK\n",
      "\f",
      "\n"
     ]
    }
   ],
   "source": [
    "val = pytesseract.image_to_string(invert, config = '--psm 7')\n",
    "print(val)"
   ]
  },
  {
   "cell_type": "code",
   "execution_count": null,
   "id": "6b06eb5d",
   "metadata": {},
   "outputs": [],
   "source": []
  }
 ],
 "metadata": {
  "kernelspec": {
   "display_name": "Python 3",
   "language": "python",
   "name": "python3"
  },
  "language_info": {
   "codemirror_mode": {
    "name": "ipython",
    "version": 3
   },
   "file_extension": ".py",
   "mimetype": "text/x-python",
   "name": "python",
   "nbconvert_exporter": "python",
   "pygments_lexer": "ipython3",
   "version": "3.7.10"
  }
 },
 "nbformat": 4,
 "nbformat_minor": 5
}
