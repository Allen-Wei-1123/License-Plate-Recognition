{
 "cells": [
  {
   "cell_type": "code",
   "execution_count": 3600,
   "id": "a74d2648",
   "metadata": {},
   "outputs": [],
   "source": [
    "from imutils import contours\n",
    "import numpy as np\n",
    "import argparse\n",
    "import cv2\n",
    "import pytesseract\n",
    "import import_ipynb\n",
    "import myutils\n",
    "import easyocr"
   ]
  },
  {
   "cell_type": "code",
   "execution_count": 3601,
   "id": "b64d4514",
   "metadata": {},
   "outputs": [],
   "source": [
    "def cv_show(name,img):\n",
    "    cv2.imshow(name,img)\n",
    "    cv2.waitKey(0)\n",
    "    cv2.destroyAllWindows();"
   ]
  },
  {
   "cell_type": "code",
   "execution_count": 3602,
   "id": "d7a570cd",
   "metadata": {},
   "outputs": [],
   "source": [
    "img = cv2.imread('plate_12.jpeg')"
   ]
  },
  {
   "cell_type": "code",
   "execution_count": 3603,
   "id": "5d523e69",
   "metadata": {},
   "outputs": [],
   "source": [
    "ratio = img.shape[0]/500.0\n",
    "orig = img.copy();\n",
    "\n",
    "img = myutils.resize(orig,height=500)\n",
    "orig = myutils.resize(orig,height=500)"
   ]
  },
  {
   "cell_type": "code",
   "execution_count": 3604,
   "id": "54baf1de",
   "metadata": {},
   "outputs": [
    {
     "data": {
      "text/plain": [
       "(500, 666, 3)"
      ]
     },
     "execution_count": 3604,
     "metadata": {},
     "output_type": "execute_result"
    }
   ],
   "source": [
    "cv_show('img',img)\n",
    "img.shape"
   ]
  },
  {
   "cell_type": "code",
   "execution_count": 3605,
   "id": "ed4c18a4",
   "metadata": {},
   "outputs": [],
   "source": [
    "img=cv2.GaussianBlur(img,(5,5),0)\n",
    "gray = cv2.cvtColor(img,cv2.COLOR_BGR2GRAY)\n",
    "rectKern = cv2.getStructuringElement(cv2.MORPH_RECT, (20, 10))\n",
    "blackhat = cv2.morphologyEx(gray, cv2.MORPH_BLACKHAT, rectKern)\n",
    "cv_show(\"Tophat\", blackhat)"
   ]
  },
  {
   "cell_type": "code",
   "execution_count": 3606,
   "id": "ecfcf703",
   "metadata": {},
   "outputs": [],
   "source": [
    "squareKern = cv2.getStructuringElement(cv2.MORPH_RECT, (3, 3))\n",
    "light = cv2.morphologyEx(gray, cv2.MORPH_CLOSE, squareKern)\n",
    "light = cv2.threshold(light, 0, 255,cv2.THRESH_BINARY | cv2.THRESH_OTSU)[1]\n",
    "cv_show(\"Light Regions\", light)"
   ]
  },
  {
   "cell_type": "code",
   "execution_count": 3607,
   "id": "1d97a736",
   "metadata": {},
   "outputs": [],
   "source": [
    "gradX = cv2.Sobel(blackhat, ddepth=cv2.CV_32F,dx=1, dy=0, ksize=-1)\n",
    "gradX = np.absolute(gradX)\n",
    "(minVal, maxVal) = (np.min(gradX), np.max(gradX))\n",
    "gradX = 255 * ((gradX - minVal) / (maxVal - minVal))\n",
    "gradX = gradX.astype(\"uint8\")\n",
    "cv_show(\"Scharr\", gradX)\n"
   ]
  },
  {
   "cell_type": "code",
   "execution_count": 3608,
   "id": "eca185de",
   "metadata": {},
   "outputs": [],
   "source": [
    "gradX = cv2.GaussianBlur(gradX, (5, 5), 0)\n",
    "gradX = cv2.morphologyEx(gradX, cv2.MORPH_CLOSE, rectKern)\n",
    "thresh = cv2.threshold(gradX, 0, 255,cv2.THRESH_BINARY | cv2.THRESH_OTSU)[1]\n",
    "cv_show(\"Grad Thresh\", thresh)"
   ]
  },
  {
   "cell_type": "code",
   "execution_count": 3609,
   "id": "3ab5936e",
   "metadata": {},
   "outputs": [],
   "source": [
    "thresh = cv2.erode(thresh, None, iterations=2)\n",
    "thresh = cv2.dilate(thresh, None, iterations=2)"
   ]
  },
  {
   "cell_type": "code",
   "execution_count": 3610,
   "id": "53083b2d",
   "metadata": {},
   "outputs": [],
   "source": [
    "thresh = cv2.bitwise_and(thresh, thresh, mask=light)\n",
    "thresh = cv2.dilate(thresh, None, iterations=2)\n",
    "thresh = cv2.erode(thresh, None, iterations=1)\n",
    "cv_show(\"Final\", thresh)"
   ]
  },
  {
   "cell_type": "code",
   "execution_count": 3611,
   "id": "a399e5c5",
   "metadata": {},
   "outputs": [],
   "source": [
    "cnts,hierarchy = cv2.findContours(thresh.copy(),cv2.RETR_EXTERNAL,cv2.CHAIN_APPROX_SIMPLE)\n",
    "draw_img = img.copy();\n",
    "cv2.drawContours(draw_img,cnts,-1,(0,0,255),3)\n",
    "cv_show('cnts',draw_img)"
   ]
  },
  {
   "cell_type": "code",
   "execution_count": 3612,
   "id": "17e2924d",
   "metadata": {},
   "outputs": [
    {
     "name": "stdout",
     "output_type": "stream",
     "text": [
      "2.23943661971831\n",
      "4.333333333333333\n"
     ]
    }
   ],
   "source": [
    "lpCnt = None\n",
    "roi = None\n",
    "cnts = sorted(cnts,key=cv2.contourArea,reverse=True);\n",
    "\t\t# loop over the license plate candidate contours\n",
    "for c in cnts:\n",
    "    # compute the bounding box of the contour and then use\n",
    "    # the bounding box to derive the aspect ratio\n",
    "    (x, y, w, h) = cv2.boundingRect(c)\n",
    "    ar = w / float(h)\n",
    "    print(ar)\n",
    "    roi = img[y:y+h,x:x+w]\n",
    "    cv_show(\"roi is \",roi)\n",
    "    if ar >= 3 and ar <= 6:\n",
    "        # store the license plate contour and extract the\n",
    "        # license plate from the grayscale image and then\n",
    "        # threshold it\n",
    "        lpCnt = c\n",
    "        licensePlate = img[y:y + h, x:x+ w]\n",
    "        cv_show('licenseplate',licensePlate)\n",
    "        break"
   ]
  },
  {
   "cell_type": "code",
   "execution_count": 3613,
   "id": "98de18d3",
   "metadata": {},
   "outputs": [],
   "source": [
    "tmp = licensePlate.copy()"
   ]
  },
  {
   "cell_type": "code",
   "execution_count": 3614,
   "id": "ba36aaf8",
   "metadata": {},
   "outputs": [],
   "source": [
    "dilate_img = cv2.dilate(licensePlate,np.ones((7,7),np.uint8))\n",
    "bg_img = cv2.medianBlur(dilate_img,21)\n",
    "diff_img = 255-cv2.absdiff(tmp,bg_img)\n",
    "norm_img = diff_img.copy() # Needed for 3.x compatibility\n",
    "cv2.normalize(diff_img, norm_img, alpha=0, beta=255, norm_type=cv2.NORM_MINMAX, dtype=cv2.CV_8UC1)\n",
    "_, thr_img = cv2.threshold(norm_img, 230, 0, cv2.THRESH_TRUNC)\n",
    "cv2.normalize(thr_img, thr_img, alpha=0, beta=255, norm_type=cv2.NORM_MINMAX, dtype=cv2.CV_8UC1)\n",
    "licensePlate = thr_img.copy()\n"
   ]
  },
  {
   "cell_type": "code",
   "execution_count": 3615,
   "id": "a650cf53",
   "metadata": {},
   "outputs": [],
   "source": [
    "licensePlate = myutils.resize(licensePlate,width=300)"
   ]
  },
  {
   "cell_type": "code",
   "execution_count": 3616,
   "id": "35491f1d",
   "metadata": {},
   "outputs": [],
   "source": [
    "licensePlate = myutils.resize(licensePlate,height=60)\n",
    "colored = licensePlate.copy();"
   ]
  },
  {
   "cell_type": "code",
   "execution_count": 3617,
   "id": "56caa666",
   "metadata": {},
   "outputs": [],
   "source": [
    "licensePlate = cv2.GaussianBlur(licensePlate,(3,3),0)\n",
    "licensePlate = cv2.cvtColor(licensePlate,cv2.COLOR_BGR2GRAY)\n",
    "licensePlate = cv2.threshold(licensePlate, 0, 255,cv2.THRESH_BINARY_INV + cv2.THRESH_OTSU)[1]"
   ]
  },
  {
   "cell_type": "code",
   "execution_count": 3618,
   "id": "6da3efec",
   "metadata": {},
   "outputs": [],
   "source": [
    "# squareKern = cv2.getStructuringElement(cv2.MORPH_RECT, (5, 5))\n",
    "lp_close = cv2.morphologyEx(licensePlate,cv2.MORPH_CLOSE,squareKern)\n",
    "lp_close = cv2.morphologyEx(lp_close,cv2.MORPH_OPEN,squareKern)\n",
    "lp_close = cv2.erode(lp_close,squareKern,iterations=1)"
   ]
  },
  {
   "cell_type": "code",
   "execution_count": 3619,
   "id": "54128e85",
   "metadata": {},
   "outputs": [],
   "source": [
    "adjust = lp_close.copy()\n",
    "cv_show('lp_close',adjust)"
   ]
  },
  {
   "cell_type": "code",
   "execution_count": 3620,
   "id": "70bae74d",
   "metadata": {},
   "outputs": [],
   "source": [
    "result = np.zeros(licensePlate.shape, dtype=np.uint8)\n",
    "cv_show('res',result)"
   ]
  },
  {
   "cell_type": "code",
   "execution_count": 3621,
   "id": "b7b9150f",
   "metadata": {},
   "outputs": [],
   "source": [
    "lp_close = licensePlate.copy()\n",
    "cv_show('lpclose',lp_close)\n",
    "contours,hierarchy = cv2.findContours(lp_close,cv2.RETR_EXTERNAL,cv2.CHAIN_APPROX_SIMPLE);\n",
    "num_labels,labels ,stats,centroid= cv2.connectedComponentsWithStats(lp_close,8,cv2.CV_32S)\n"
   ]
  },
  {
   "cell_type": "code",
   "execution_count": 3622,
   "id": "6775bde3",
   "metadata": {},
   "outputs": [],
   "source": [
    "cv_show('colored',lp_close)"
   ]
  },
  {
   "cell_type": "code",
   "execution_count": 3623,
   "id": "f7f125df",
   "metadata": {},
   "outputs": [
    {
     "name": "stdout",
     "output_type": "stream",
     "text": [
      "13\n",
      "width is  193\n",
      "height is  4\n",
      "area is  605\n",
      "width is  24\n",
      "height is  3\n",
      "area is  43\n",
      "width is  24\n",
      "height is  4\n",
      "area is  92\n",
      "width is  260\n",
      "height is  60\n",
      "area is  1023\n",
      "width is  24\n",
      "height is  38\n",
      "area is  470\n",
      "width is  23\n",
      "height is  37\n",
      "area is  475\n",
      "width is  23\n",
      "height is  38\n",
      "area is  512\n",
      "width is  23\n",
      "height is  37\n",
      "area is  417\n",
      "width is  22\n",
      "height is  36\n",
      "area is  398\n",
      "width is  24\n",
      "height is  36\n",
      "area is  404\n",
      "width is  25\n",
      "height is  37\n",
      "area is  522\n",
      "width is  7\n",
      "height is  5\n",
      "area is  33\n"
     ]
    }
   ],
   "source": [
    "print(num_labels)\n",
    "for i in range(1,num_labels):\n",
    "    x = stats[i,cv2.CC_STAT_LEFT]\n",
    "    y = stats[i, cv2.CC_STAT_TOP]\n",
    "    w = stats[i, cv2.CC_STAT_WIDTH]\n",
    "    h = stats[i, cv2.CC_STAT_HEIGHT]\n",
    "    area = stats[i, cv2.CC_STAT_AREA]\n",
    "    (cX,cY) = centroid[i];\n",
    "    output = colored.copy()\n",
    "    cv2.rectangle(output,(x,y),(x+w,y+h),(0,255,0),3)\n",
    "    componentMask = (labels==i).astype(\"uint8\")*255\n",
    "    ratio = w/float(h);\n",
    "    \n",
    "    print(\"width is \",w)\n",
    "    print(\"height is \",h)\n",
    "    print(\"area is \",area)\n",
    "    #26 40 613\n",
    "    #26,40,556\n",
    "    #26 40 664\n",
    "    #24,40,524\n",
    "    #24,40,461\n",
    "    #23,40,450\n",
    "#     cv_show('output',output)\n",
    "    if ratio >= 0.1 and ratio <= 2.0 and area >=200:\n",
    "        cv_show('output',output)\n",
    "        result[y:y+h,x:x+w] = lp_close[y:y+h,x:x+w]"
   ]
  },
  {
   "cell_type": "code",
   "execution_count": 3624,
   "id": "389ba8f3",
   "metadata": {},
   "outputs": [],
   "source": [
    "invert = 255-result\n",
    "cv_show('invert',invert);"
   ]
  },
  {
   "cell_type": "code",
   "execution_count": 3625,
   "id": "cc9b18f8",
   "metadata": {},
   "outputs": [
    {
     "name": "stdout",
     "output_type": "stream",
     "text": [
      "ZG 593 ZH\n",
      "\f",
      "\n"
     ]
    }
   ],
   "source": [
    "val = pytesseract.image_to_string(invert, config = '--psm 7')\n",
    "print(val)"
   ]
  },
  {
   "cell_type": "code",
   "execution_count": 3626,
   "id": "6b06eb5d",
   "metadata": {},
   "outputs": [],
   "source": [
    "x,y,w,h = cv2.boundingRect(lpCnt);\n",
    "cv2.rectangle(orig,(x,y),(x+w,y+h),(0,0,255),2)\n",
    "cv2.putText(orig, val, (x, y-10), cv2.FONT_HERSHEY_SIMPLEX, 0.9, (36,255,12), 2)\n",
    "cv_show('orig',orig)"
   ]
  },
  {
   "cell_type": "code",
   "execution_count": null,
   "id": "176c0e03",
   "metadata": {},
   "outputs": [],
   "source": []
  }
 ],
 "metadata": {
  "kernelspec": {
   "display_name": "Python 3",
   "language": "python",
   "name": "python3"
  },
  "language_info": {
   "codemirror_mode": {
    "name": "ipython",
    "version": 3
   },
   "file_extension": ".py",
   "mimetype": "text/x-python",
   "name": "python",
   "nbconvert_exporter": "python",
   "pygments_lexer": "ipython3",
   "version": "3.7.10"
  }
 },
 "nbformat": 4,
 "nbformat_minor": 5
}
