{
 "cells": [
  {
   "cell_type": "code",
   "execution_count": 2,
   "id": "5b5f4088",
   "metadata": {},
   "outputs": [],
   "source": [
    "import cv2\n",
    "import numpy as np\n",
    "import matplotlib.pyplot as plt\n",
    "%matplotlib inline"
   ]
  },
  {
   "cell_type": "code",
   "execution_count": 3,
   "id": "322309aa",
   "metadata": {},
   "outputs": [],
   "source": [
    "img = cv2.imread('dige.png')\n",
    "cv2.imshow('img',img)\n",
    "cv2.waitKey(0);\n",
    "cv2.destroyAllWindows()"
   ]
  },
  {
   "cell_type": "code",
   "execution_count": 7,
   "id": "c4e15d87",
   "metadata": {},
   "outputs": [],
   "source": [
    "img = cv2.imread('pie.png')\n",
    "kernel = np.ones((30,30),np.uint8)\n",
    "erosion = cv2.erode(img,kernel,iterations=1)\n",
    "erosion2 = cv2.erode(img,kernel,iterations=2)\n",
    "erosion3 = cv2.erode(img,kernel,iterations=3)\n",
    "\n",
    "res = np.hstack((erosion,erosion2,erosion3))\n",
    "\n",
    "cv2.imshow('erosions',res);\n",
    "cv2.waitKey(0)\n",
    "cv2.destroyAllWindows()"
   ]
  },
  {
   "cell_type": "code",
   "execution_count": 8,
   "id": "b518e89d",
   "metadata": {},
   "outputs": [],
   "source": [
    "pie = cv2.imread('pie.png')\n",
    "kernel = np.ones((30,30),np.uint8)\n",
    "dilate_1 = cv2.dilate(pie,kernel,iterations = 1)\n",
    "dilate_2 = cv2.dilate(pie,kernel,iterations = 2)\n",
    "dilate_3 = cv2.dilate(pie,kernel,iterations = 3)\n",
    "\n",
    "res = np.hstack((dilate_1,dilate_2,dilate_3))\n",
    "\n",
    "cv2.imshow('dilates',res);\n",
    "cv2.waitKey(0)\n",
    "cv2.destroyAllWindows()"
   ]
  },
  {
   "cell_type": "code",
   "execution_count": 4,
   "id": "8458b9cb",
   "metadata": {},
   "outputs": [],
   "source": [
    "img = cv2.imread('dige.png')\n",
    "kernel = np.ones((5,5),np.uint8);\n",
    "\n",
    "opening = cv2.morphologyEx(img,cv2.MORPH_OPEN,kernel)\n",
    "\n",
    "cv2.imshow('opening',opening)\n",
    "cv2.waitKey(0)\n",
    "cv2.destroyAllWindows()"
   ]
  },
  {
   "cell_type": "code",
   "execution_count": 4,
   "id": "08e19c42",
   "metadata": {},
   "outputs": [],
   "source": [
    "closing = cv2.morphologyEx(img,cv2.MORPH_CLOSE,kernel)\n",
    "\n",
    "cv2.imshow('opening',closing)\n",
    "cv2.waitKey(0)\n",
    "cv2.destroyAllWindows()"
   ]
  },
  {
   "cell_type": "code",
   "execution_count": 1,
   "id": "d3f91b86",
   "metadata": {},
   "outputs": [
    {
     "ename": "NameError",
     "evalue": "name 'np' is not defined",
     "output_type": "error",
     "traceback": [
      "\u001b[0;31m---------------------------------------------------------------------------\u001b[0m",
      "\u001b[0;31mNameError\u001b[0m                                 Traceback (most recent call last)",
      "\u001b[0;32m<ipython-input-1-1a44cf575ec7>\u001b[0m in \u001b[0;36m<module>\u001b[0;34m\u001b[0m\n\u001b[0;32m----> 1\u001b[0;31m \u001b[0mkernel\u001b[0m \u001b[0;34m=\u001b[0m \u001b[0mnp\u001b[0m\u001b[0;34m.\u001b[0m\u001b[0mones\u001b[0m\u001b[0;34m(\u001b[0m\u001b[0;34m(\u001b[0m\u001b[0;36m7\u001b[0m\u001b[0;34m,\u001b[0m\u001b[0;36m7\u001b[0m\u001b[0;34m)\u001b[0m\u001b[0;34m,\u001b[0m\u001b[0mnp\u001b[0m\u001b[0;34m.\u001b[0m\u001b[0muint8\u001b[0m\u001b[0;34m)\u001b[0m\u001b[0;34m;\u001b[0m\u001b[0;34m\u001b[0m\u001b[0;34m\u001b[0m\u001b[0m\n\u001b[0m\u001b[1;32m      2\u001b[0m \u001b[0mimg\u001b[0m \u001b[0;34m=\u001b[0m \u001b[0mcv2\u001b[0m\u001b[0;34m.\u001b[0m\u001b[0mimread\u001b[0m\u001b[0;34m(\u001b[0m\u001b[0;34m'dige.png'\u001b[0m\u001b[0;34m)\u001b[0m\u001b[0;34m\u001b[0m\u001b[0;34m\u001b[0m\u001b[0m\n\u001b[1;32m      3\u001b[0m \u001b[0mtophat\u001b[0m \u001b[0;34m=\u001b[0m \u001b[0mcv2\u001b[0m\u001b[0;34m.\u001b[0m\u001b[0mmorphologyEx\u001b[0m\u001b[0;34m(\u001b[0m\u001b[0mimg\u001b[0m\u001b[0;34m,\u001b[0m\u001b[0mcv2\u001b[0m\u001b[0;34m.\u001b[0m\u001b[0mMORPH_TOPHAT\u001b[0m\u001b[0;34m,\u001b[0m\u001b[0mkernel\u001b[0m\u001b[0;34m)\u001b[0m\u001b[0;34m\u001b[0m\u001b[0;34m\u001b[0m\u001b[0m\n\u001b[1;32m      4\u001b[0m \u001b[0;34m\u001b[0m\u001b[0m\n\u001b[1;32m      5\u001b[0m \u001b[0mcv2\u001b[0m\u001b[0;34m.\u001b[0m\u001b[0mimshow\u001b[0m\u001b[0;34m(\u001b[0m\u001b[0;34m'opening'\u001b[0m\u001b[0;34m,\u001b[0m\u001b[0mtophat\u001b[0m\u001b[0;34m)\u001b[0m\u001b[0;34m\u001b[0m\u001b[0;34m\u001b[0m\u001b[0m\n",
      "\u001b[0;31mNameError\u001b[0m: name 'np' is not defined"
     ]
    }
   ],
   "source": [
    "kernel = np.ones((7,7),np.uint8);\n",
    "img = cv2.imread('dige.png')\n",
    "tophat = cv2.morphologyEx(img,cv2.MORPH_TOPHAT,kernel)\n",
    "\n",
    "cv2.imshow('opening',tophat)\n",
    "cv2.waitKey(0)\n",
    "cv2.destroyAllWindows()"
   ]
  },
  {
   "cell_type": "code",
   "execution_count": 11,
   "id": "5ea0b4d0",
   "metadata": {},
   "outputs": [],
   "source": [
    "kernel = np.ones((7,7),np.uint8);\n",
    "img = cv2.imread('dige.png')\n",
    "blackhat = cv2.morphologyEx(img,cv2.MORPH_BLACKHAT,kernel)\n",
    "\n",
    "cv2.imshow('opening',blackhat)\n",
    "cv2.waitKey(0)\n",
    "cv2.destroyAllWindows()"
   ]
  },
  {
   "cell_type": "code",
   "execution_count": 20,
   "id": "8933e878",
   "metadata": {},
   "outputs": [],
   "source": [
    "img = cv2.imread('pie.png')\n",
    "sobelx = cv2.Sobel(img,cv2.CV_64F,1,0,ksize =3)\n",
    "sobelx = cv2.convertScaleAbs(sobelx)"
   ]
  },
  {
   "cell_type": "code",
   "execution_count": 21,
   "id": "93ed3b09",
   "metadata": {},
   "outputs": [],
   "source": [
    "sobely= cv2.Sobel(img,cv2.CV_64F,0,1,ksize =3)\n",
    "sobely = cv2.convertScaleAbs(sobely)"
   ]
  },
  {
   "cell_type": "code",
   "execution_count": 22,
   "id": "eb0ffe6d",
   "metadata": {},
   "outputs": [],
   "source": [
    "sobelxy=cv2.addWeighted(sobelx,0.5,sobely,0.5,0);\n",
    "cv2.imshow('sobelxy',sobelxy)\n",
    "cv2.waitKey(0)\n",
    "cv2.destroyAllWindows()"
   ]
  },
  {
   "cell_type": "code",
   "execution_count": 27,
   "id": "67f8d39b",
   "metadata": {},
   "outputs": [],
   "source": [
    "img = cv2.imread('lena.jpg',cv2.IMREAD_GRAYSCALE);\n",
    "laplacian = cv2.Laplacian(img,cv2.CV_64F)\n",
    "laplacian = cv2.convertScaleAbs(laplacian)\n",
    "\n",
    "cv2.imshow('laplacian',laplacian)\n",
    "cv2.waitKey(0)\n",
    "cv2.destroyAllWindows()"
   ]
  },
  {
   "cell_type": "code",
   "execution_count": null,
   "id": "c59935aa",
   "metadata": {},
   "outputs": [],
   "source": []
  }
 ],
 "metadata": {
  "kernelspec": {
   "display_name": "Python 3",
   "language": "python",
   "name": "python3"
  },
  "language_info": {
   "codemirror_mode": {
    "name": "ipython",
    "version": 3
   },
   "file_extension": ".py",
   "mimetype": "text/x-python",
   "name": "python",
   "nbconvert_exporter": "python",
   "pygments_lexer": "ipython3",
   "version": "3.7.10"
  }
 },
 "nbformat": 4,
 "nbformat_minor": 5
}
