{
 "cells": [
  {
   "cell_type": "code",
   "execution_count": 3,
   "id": "f6aad0cc",
   "metadata": {},
   "outputs": [],
   "source": [
    "from imutils import contours\n",
    "import numpy as np\n",
    "import argparse\n",
    "import cv2\n"
   ]
  },
  {
   "cell_type": "code",
   "execution_count": 4,
   "id": "05e0b949",
   "metadata": {},
   "outputs": [],
   "source": [
    "def cv_show(name,img):\n",
    "    cv2.imshow(name,img)\n",
    "    cv2.waitKey(0)\n",
    "    cv2.destroyAllWindows();"
   ]
  },
  {
   "cell_type": "code",
   "execution_count": 5,
   "id": "b731a0ec",
   "metadata": {},
   "outputs": [],
   "source": [
    "ANSWER_KEY = {0: 1, 1: 4, 2: 0, 3: 3, 4: 1}"
   ]
  },
  {
   "cell_type": "code",
   "execution_count": 6,
   "id": "cee1a2b7",
   "metadata": {},
   "outputs": [],
   "source": [
    "def sort_contours(cnts, method=\"left-to-right\"):\n",
    "\t# initialize the reverse flag and sort index\n",
    "\treverse = False\n",
    "\ti = 0\n",
    "\t# handle if we need to sort in reverse\n",
    "\tif method == \"right-to-left\" or method == \"bottom-to-top\":\n",
    "\t\treverse = True\n",
    "\t# handle if we are sorting against the y-coordinate rather than\n",
    "\t# the x-coordinate of the bounding box\n",
    "\tif method == \"top-to-bottom\" or method == \"bottom-to-top\":\n",
    "\t\ti = 1\n",
    "\t# construct the list of bounding boxes and sort them from top to\n",
    "\t# bottom\n",
    "\tboundingBoxes = [cv2.boundingRect(c) for c in cnts]\n",
    "\t(cnts, boundingBoxes) = zip(*sorted(zip(cnts, boundingBoxes),\n",
    "\t\tkey=lambda b:b[1][i], reverse=reverse))\n",
    "\t# return the list of sorted contours and bounding boxes\n",
    "\treturn (cnts, boundingBoxes)"
   ]
  },
  {
   "cell_type": "code",
   "execution_count": 7,
   "id": "6076f969",
   "metadata": {},
   "outputs": [],
   "source": [
    "def order_points(pts):\n",
    "\t# 一共4个坐标点\n",
    "\trect = np.zeros((4, 2), dtype = \"float32\")\n",
    "\n",
    "\t# 按顺序找到对应坐标0123分别是 左上，右上，右下，左下\n",
    "\t# 计算左上，右下\n",
    "\ts = pts.sum(axis = 1)\n",
    "\trect[0] = pts[np.argmin(s)]\n",
    "\trect[2] = pts[np.argmax(s)]\n",
    "\n",
    "\t# 计算右上和左下\n",
    "\tdiff = np.diff(pts, axis = 1)\n",
    "\trect[1] = pts[np.argmin(diff)]\n",
    "\trect[3] = pts[np.argmax(diff)]\n",
    "\n",
    "\treturn rect"
   ]
  },
  {
   "cell_type": "code",
   "execution_count": 8,
   "id": "ef17fe60",
   "metadata": {},
   "outputs": [],
   "source": [
    "def transform(orig,pts):\n",
    "    rect = order_points(pts);\n",
    "    (tl, tr, br, bl) = rect\n",
    "    widthA = np.sqrt(((br[0] - bl[0]) ** 2) + ((br[1] - bl[1]) ** 2))\n",
    "    widthB = np.sqrt(((tr[0] - tl[0]) ** 2) + ((tr[1] - tl[1]) ** 2))\n",
    "    # ...and now for the height of our new image\n",
    "    heightA = np.sqrt(((tr[0] - br[0]) ** 2) + ((tr[1] - br[1]) ** 2))\n",
    "    heightB = np.sqrt(((tl[0] - bl[0]) ** 2) + ((tl[1] - bl[1]) ** 2))\n",
    "    # take the maximum of the width and height values to reach\n",
    "    # our final dimensions\n",
    "    maxWidth = max(int(widthA), int(widthB))\n",
    "    maxHeight = max(int(heightA), int(heightB))\n",
    "    # construct our destination points which will be used to\n",
    "    # map the screen to a top-down, \"birds eye\" view\n",
    "    dst = np.array([\n",
    "        [0, 0],\n",
    "        [maxWidth - 1, 0],\n",
    "        [maxWidth - 1, maxHeight - 1],\n",
    "        [0, maxHeight - 1]], dtype = \"float32\")\n",
    "    # calculate the perspective transform matrix and warp\n",
    "    # the perspective to grab the screen\n",
    "    M = cv2.getPerspectiveTransform(rect, dst)\n",
    "    warp = cv2.warpPerspective(orig, M, (maxWidth, maxHeight))\n",
    "    return warp"
   ]
  },
  {
   "cell_type": "code",
   "execution_count": 9,
   "id": "a0849979",
   "metadata": {},
   "outputs": [],
   "source": [
    "image = cv2.imread('test_03.png')\n",
    "contours_img = image.copy()\n",
    "gray = cv2.cvtColor(image, cv2.COLOR_BGR2GRAY)\n",
    "blurred = cv2.GaussianBlur(gray,(5,5),0)\n",
    "edged = cv2.Canny(blurred,75,200)\n",
    "cv_show('edged',edged)"
   ]
  },
  {
   "cell_type": "code",
   "execution_count": 10,
   "id": "3602fb0c",
   "metadata": {},
   "outputs": [],
   "source": [
    "contours,hierarchy = cv2.findContours(edged,cv2.RETR_EXTERNAL,cv2.CHAIN_APPROX_NONE)\n",
    "res = cv2.drawContours(contours_img,contours,-1,(0,0,255),3)\n",
    "cv_show('contours',contours_img)"
   ]
  },
  {
   "cell_type": "code",
   "execution_count": 11,
   "id": "e23073d9",
   "metadata": {},
   "outputs": [
    {
     "name": "stdout",
     "output_type": "stream",
     "text": [
      "1\n"
     ]
    }
   ],
   "source": [
    "print(len(contours))"
   ]
  },
  {
   "cell_type": "code",
   "execution_count": 12,
   "id": "ab5025cc",
   "metadata": {},
   "outputs": [],
   "source": [
    "c = contours[0];\n",
    "peri = cv2.arcLength(c,True);\n",
    "approx = cv2.approxPolyDP(c, 0.02 * peri, True)\n"
   ]
  },
  {
   "cell_type": "code",
   "execution_count": 13,
   "id": "876ae493",
   "metadata": {},
   "outputs": [],
   "source": [
    "warped = transform(gray, approx.reshape(4, 2))\n",
    "cv_show('warped',warped)"
   ]
  },
  {
   "cell_type": "code",
   "execution_count": 14,
   "id": "ea030d8a",
   "metadata": {},
   "outputs": [],
   "source": [
    "ret,thresh = cv2.threshold(warped,0,255,cv2.THRESH_BINARY_INV|cv2.THRESH_OTSU)\n",
    "cv_show('thresh',thresh)"
   ]
  },
  {
   "cell_type": "code",
   "execution_count": 15,
   "id": "d9c5d4ba",
   "metadata": {},
   "outputs": [
    {
     "name": "stdout",
     "output_type": "stream",
     "text": [
      "69\n"
     ]
    }
   ],
   "source": [
    "contours,hie = cv2.findContours(thresh.copy(),cv2.RETR_EXTERNAL,cv2.CHAIN_APPROX_SIMPLE)\n",
    "print(len(contours))\n",
    "tmp = thresh.copy();\n",
    "cv2.drawContours(tmp,contours,-1,(0,0,255),3)\n",
    "cv_show('img',tmp)"
   ]
  },
  {
   "cell_type": "code",
   "execution_count": 16,
   "id": "4b23faab",
   "metadata": {},
   "outputs": [],
   "source": [
    "questioncnts = []\n",
    "for c in contours:\n",
    "    (x,y,w,h) = cv2.boundingRect(c);\n",
    "    ar = w/float(h)\n",
    "    \n",
    "    if w>=20 and h>=20 and ar >= 0.9 and ar<=1.1:\n",
    "        questioncnts.append(c)\n",
    "        \n",
    "questioncnts = sort_contours(questioncnts,method = \"top-to-bottom\")[0]\n",
    "    "
   ]
  },
  {
   "cell_type": "code",
   "execution_count": 23,
   "id": "796be9e3",
   "metadata": {},
   "outputs": [
    {
     "name": "stdout",
     "output_type": "stream",
     "text": [
      "3\n"
     ]
    }
   ],
   "source": [
    "correct = 0 ;\n",
    "ind = 0\n",
    "for (q,i) in enumerate(np.arange(0, len(questioncnts), 5)):\n",
    "    cnts = sort_contours(questioncnts[i:i+5])[0]\n",
    "    bubbled = None;\n",
    "    \n",
    "    for (j,c) in enumerate(cnts):\n",
    "        mask = np.zeros(thresh.shape,dtype = \"uint8\")\n",
    "        cv2.drawContours(mask,[c],-1,255,-1)\n",
    "        cv_show('mask',mask)\n",
    "        mask = cv2.bitwise_and(thresh,thresh,mask=mask)\n",
    "        total = cv2.countNonZero(mask)\n",
    "        if bubbled is None or total > bubbled[0]:\n",
    "            bubbled = (total, j)\n",
    "            \n",
    "    color = (0,0,255)\n",
    "    k = ANSWER_KEY[q]\n",
    "    if bubbled != None and k == bubbled[1]:\n",
    "        color = (0,255,0)\n",
    "        correct+=1;\n",
    "        \n",
    "#     cv2.drawContours(warped,[cnts[k]],-1,15)\n",
    "    cv2.drawContours(warped,[cnts[k]],-1,(0,0,255),3);\n",
    "\n",
    "print(correct)\n",
    "# cv_show('warped',warped);\n",
    "     "
   ]
  },
  {
   "cell_type": "code",
   "execution_count": null,
   "id": "d7ddf853",
   "metadata": {},
   "outputs": [],
   "source": []
  },
  {
   "cell_type": "code",
   "execution_count": null,
   "id": "7dba40f2",
   "metadata": {},
   "outputs": [],
   "source": []
  },
  {
   "cell_type": "code",
   "execution_count": null,
   "id": "e302ef91",
   "metadata": {},
   "outputs": [],
   "source": []
  }
 ],
 "metadata": {
  "kernelspec": {
   "display_name": "Python 3",
   "language": "python",
   "name": "python3"
  },
  "language_info": {
   "codemirror_mode": {
    "name": "ipython",
    "version": 3
   },
   "file_extension": ".py",
   "mimetype": "text/x-python",
   "name": "python",
   "nbconvert_exporter": "python",
   "pygments_lexer": "ipython3",
   "version": "3.7.10"
  }
 },
 "nbformat": 4,
 "nbformat_minor": 5
}
